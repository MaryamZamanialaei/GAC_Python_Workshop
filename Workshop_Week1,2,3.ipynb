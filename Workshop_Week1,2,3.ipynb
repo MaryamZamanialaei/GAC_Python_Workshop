{
 "cells": [
  {
   "cell_type": "markdown",
   "id": "d3abdeb1",
   "metadata": {
    "id": "d3abdeb1"
   },
   "source": [
    "# Jupyter Notebooks Cells \n",
    "\n",
    "Jupyter notebooks allow you combine text and code using a system called markdown. In fact, this very cell is written in **markdown**. We use this formatting language to narrate the workshop and provide context. (*Imagine reading this notebook with no markdown*) Markdown is also used for documentation of code in Python notebooks more generally.\n",
    "\n",
    "- Markdown\n",
    "- Code"
   ]
  },
  {
   "cell_type": "code",
   "execution_count": null,
   "id": "665304a1",
   "metadata": {
    "id": "665304a1",
    "outputId": "0955f742-1403-4546-c186-eebd0faaf2c3"
   },
   "outputs": [
    {
     "name": "stdout",
     "output_type": "stream",
     "text": [
      "8\n"
     ]
    }
   ],
   "source": [
    "a = 2 + 6\n",
    "print(a)"
   ]
  },
  {
   "cell_type": "markdown",
   "id": "9c3484d7",
   "metadata": {
    "id": "9c3484d7"
   },
   "source": [
    "Control/Command+Enter executes the cell and does not move to the next cell.\n",
    "\n",
    "You can enter the same line over and over again into the interpreter."
   ]
  },
  {
   "cell_type": "markdown",
   "id": "5df2cd52",
   "metadata": {
    "id": "5df2cd52"
   },
   "source": [
    "## Clearing Jupyter\n",
    "\n",
    "Jupyter remembers line of code it executed, even if it's not currently displayed in the notebook. This means that deleting a line of code does not delete it from the notebook's memory if it has already been run. Instead, to clear everything from Jupyter use Kernel -> Restart in the menu. The kernel is basically the program actually running the code, so if you reset the kernel, it's as if you just opened up the notebook for the first time. All of the outputs are forgotten, and the variables are reset.\n",
    "\n",
    "\n",
    "\n",
    "## Some Jupyter Tips\n",
    "\n",
    "Tab Completion\n",
    "Jupyter notebooks also allow for tab completion, just like many command line interpreters and text editors. If you begin typing the name of something (e.g., a variable, a file in the current directory, etc.) that already exists, you can simply hit Tab and Jupyter will autocomplete it for you. If there is more than one possibility, it will show them to you and you can choose from there. For example:"
   ]
  },
  {
   "cell_type": "code",
   "execution_count": null,
   "id": "c87bc339",
   "metadata": {
    "id": "c87bc339"
   },
   "outputs": [],
   "source": [
    "test_me = 1\n",
    "test_me_2 = 2"
   ]
  },
  {
   "cell_type": "markdown",
   "id": "2f3aa71e",
   "metadata": {
    "id": "2f3aa71e"
   },
   "source": [
    "Now try typing te and see what happens when you hit TAB."
   ]
  },
  {
   "cell_type": "code",
   "execution_count": null,
   "id": "dc730e54",
   "metadata": {
    "id": "dc730e54"
   },
   "outputs": [],
   "source": []
  },
  {
   "cell_type": "markdown",
   "id": "279006f4",
   "metadata": {
    "id": "279006f4"
   },
   "source": [
    "## Indenting\n",
    "\n",
    "Consistent indentation is essential in Python. Python pays close attention to blankspaces, and uses this to understand how you're structuring code. So, you're only supposed to add spaces or indents in places where Python expects you to - otherwise, you'll run into an error.\n",
    "\n",
    "To move multiple lines of code at once, you can select them and then hit Control + ] to indent them (move to the right), or Control + [ to dedent them to the left.\n",
    "\n",
    "For Macs, use Command in place of Control.\n",
    "\n",
    "Read the error message down below. What is the error type? How can we fix it?"
   ]
  },
  {
   "cell_type": "code",
   "execution_count": null,
   "id": "cc9d4e43",
   "metadata": {
    "id": "cc9d4e43"
   },
   "outputs": [],
   "source": [
    "move_me = 1\n",
    "  move_me_too = 'abc'"
   ]
  },
  {
   "cell_type": "markdown",
   "id": "bf15d1db",
   "metadata": {
    "id": "bf15d1db"
   },
   "source": [
    "## Exiting Jupyter\n",
    "\n",
    "When you close your Jupyter notebook window, all of your values will be lost. But you can save your code for a later time.\n",
    "\n",
    "First go to File -> Close and Shutdown Notebook in order to shutdown the notebook you are using and close its window. Once all notebooks are shut down, you can shut down the entire Jupyter server by closing Anaconda navigator. You may get a warning dialog box alerting you that Jupyter Notebook is still running. Just click Quit to shut everything down."
   ]
  },
  {
   "cell_type": "markdown",
   "id": "e6f65bae",
   "metadata": {
    "id": "e6f65bae"
   },
   "source": [
    "# Variables\n",
    "\n",
    "Variables are placeholders for useful values that we want to refer to again later in the code.\n",
    "In Python, the = symbol assigns the value on the right to the name on the left.\n",
    "The variable is created when a value is assigned to it. When you call the variable, it will refer to whatever value it currently holds.\n",
    "Here's Python code that assigns a year to a variable year and a month in quotation marks to a variable month."
   ]
  },
  {
   "cell_type": "code",
   "execution_count": null,
   "id": "bc4f487c",
   "metadata": {
    "id": "bc4f487c",
    "outputId": "95699935-d62a-40b2-f93a-c0a014488465"
   },
   "outputs": [
    {
     "name": "stdout",
     "output_type": "stream",
     "text": [
      "2018\n",
      "July\n"
     ]
    }
   ],
   "source": [
    "year = 2018\n",
    "month = 'July'\n",
    "\n",
    "# We can print variables with print()\n",
    "print(year)\n",
    "print(month)"
   ]
  },
  {
   "cell_type": "code",
   "execution_count": null,
   "id": "7d5eca2a",
   "metadata": {
    "id": "7d5eca2a",
    "outputId": "b637349f-832c-470b-9a5d-5dcfb290533b"
   },
   "outputs": [
    {
     "name": "stdout",
     "output_type": "stream",
     "text": [
      "Year:2018. Month:July\n"
     ]
    }
   ],
   "source": [
    "print(\"Year:\", year, \". Month:\", month, sep = '' )"
   ]
  },
  {
   "cell_type": "markdown",
   "id": "ef11c888",
   "metadata": {
    "id": "ef11c888"
   },
   "source": [
    "# What is a Data Type?\n",
    "\n",
    "Every value in a program has a specific type. Types tell Python how to interact with a variable. For example, you can use the division operation with numbers, but not text.\n",
    "Sometimes types are obvious, but sometimes they can surprise us.\n",
    "We use the type() function to identify what the type is of a current variable. Functions are signified by parentheses following them, which contain any inputs to the function."
   ]
  },
  {
   "cell_type": "code",
   "execution_count": null,
   "id": "b1bff093",
   "metadata": {
    "id": "b1bff093",
    "outputId": "b70939fd-674b-4a51-f6c2-68059735875b"
   },
   "outputs": [
    {
     "name": "stdout",
     "output_type": "stream",
     "text": [
      "<class 'float'>\n",
      "<class 'str'>\n",
      "<class 'str'>\n"
     ]
    },
    {
     "data": {
      "text/plain": [
       "str"
      ]
     },
     "execution_count": 2,
     "metadata": {},
     "output_type": "execute_result"
    }
   ],
   "source": [
    "pi = 3.14159\n",
    "print(type(pi))\n",
    "\n",
    "fitness = 'average'\n",
    "print(type(fitness))\n",
    "\n",
    "\n",
    "pi2 = '3.14159'\n",
    "print(type(pi2))\n",
    "type(pi2)"
   ]
  },
  {
   "cell_type": "markdown",
   "id": "b77c00e6",
   "metadata": {
    "id": "b77c00e6"
   },
   "source": [
    "# Functions\n",
    "\n",
    "Functions are a core part of programming that allows us to run complex operations over and over without needing to write the code over and over again. Arguments, or values passed to a function, allow for us to use functions in more general ways.\n",
    "\n",
    "- Function blocks begin with the keyword **def** followed by the function name and parentheses ( ( ) ).\n",
    "\n",
    "- Any input parameters or arguments should be placed within these parentheses. You can also define parameters inside these parentheses.\n",
    "\n",
    "- The first statement of a function can be an optional statement - the documentation string of the function or docstring.\n",
    "\n",
    "- The code block within every function starts with a colon (:) and is indented.\n",
    "\n",
    "- The statement return [expression] exits a function, optionally passing back an expression to the caller. A return statement with no arguments is the same as return None.\n"
   ]
  },
  {
   "cell_type": "code",
   "execution_count": null,
   "id": "e1cdd307",
   "metadata": {
    "id": "e1cdd307"
   },
   "outputs": [],
   "source": [
    "def functionname( parameters ):\n",
    "   \"function_docstring\"\n",
    "   function_suite\n",
    "   return [expression]"
   ]
  },
  {
   "cell_type": "code",
   "execution_count": null,
   "id": "18120192",
   "metadata": {
    "id": "18120192",
    "outputId": "467fef3e-3899-4632-d922-aedf24134f22"
   },
   "outputs": [
    {
     "name": "stdout",
     "output_type": "stream",
     "text": [
      "Returns arg1 raised to power arg2.\n"
     ]
    }
   ],
   "source": [
    "def power(a, b):\n",
    "    \"\"\"Returns arg1 raised to power arg2.\"\"\"\n",
    "    return a**b\n",
    "\n",
    "print(power.__doc__)"
   ]
  },
  {
   "cell_type": "code",
   "execution_count": null,
   "id": "3a7362d9",
   "metadata": {
    "id": "3a7362d9",
    "outputId": "1c96ab40-4b6d-4e26-f0f0-46f9c1c0bdde"
   },
   "outputs": [
    {
     "name": "stdout",
     "output_type": "stream",
     "text": [
      "hello from within foo\n",
      "hello from within foo\n"
     ]
    },
    {
     "data": {
      "text/plain": [
       "80"
      ]
     },
     "execution_count": 22,
     "metadata": {},
     "output_type": "execute_result"
    }
   ],
   "source": [
    "def foo(a):\n",
    "    b=1+a\n",
    "    return (b)\n",
    "\n",
    "foo(5)\n",
    "\n",
    "\n",
    "def bar(c):\n",
    "    return 10 * foo(c)\n",
    "\n",
    "bar(7)"
   ]
  },
  {
   "cell_type": "code",
   "execution_count": null,
   "id": "931be60f",
   "metadata": {
    "id": "931be60f",
    "outputId": "44285489-cf80-4d1d-8388-18192ec8b750"
   },
   "outputs": [
    {
     "name": "stdout",
     "output_type": "stream",
     "text": [
      "Hello from a function\n"
     ]
    }
   ],
   "source": [
    "def my_function():\n",
    "  print(\"Hello from a function\")\n",
    "my_function()"
   ]
  },
  {
   "cell_type": "code",
   "execution_count": null,
   "id": "7950f1a5",
   "metadata": {
    "id": "7950f1a5",
    "outputId": "26e17e10-24ea-487a-c7e4-961533a7b0d9"
   },
   "outputs": [
    {
     "name": "stdout",
     "output_type": "stream",
     "text": [
      "Value inside function: 10\n",
      "Value outside function: 20\n"
     ]
    }
   ],
   "source": [
    "def my_func():\n",
    "    x = 10\n",
    "    print(\"Value inside function:\",x)\n",
    "\n",
    "x = 20\n",
    "my_func()\n",
    "print(\"Value outside function:\",x)"
   ]
  },
  {
   "cell_type": "markdown",
   "id": "c1c9a0e7",
   "metadata": {
    "id": "c1c9a0e7"
   },
   "source": [
    "# Lists\n",
    "Lists are a collection of ordered items. Lists have a length, and the items inside can be indexed, or accessed based on their positions.\n",
    "\n",
    "They're most useful when storing a collection of values when order is important. One nice thing about lists is that they can contain different types of data. For example, the entries of a list can be integers, floats, strings, and even other lists!\n",
    "\n",
    "We specify a list with square brackets: [] and commas separating each entry in the list.\n",
    "\n",
    "Lists have their own methods which perform operations specific to lists. The most common method is the append() method, which adds an item to the end of a list."
   ]
  },
  {
   "cell_type": "code",
   "execution_count": null,
   "id": "21f1dd57",
   "metadata": {
    "id": "21f1dd57",
    "outputId": "8ca066ec-b550-4bd0-e328-046200606be3"
   },
   "outputs": [
    {
     "data": {
      "text/plain": [
       "list"
      ]
     },
     "execution_count": 26,
     "metadata": {},
     "output_type": "execute_result"
    }
   ],
   "source": [
    "country_list = [\"Afghanistan\", \"Canada\", \"Thailand\", \"Denmark\", \"Japan\"]\n",
    "type(country_list)"
   ]
  },
  {
   "cell_type": "code",
   "execution_count": null,
   "id": "8b1a98f3",
   "metadata": {
    "id": "8b1a98f3",
    "outputId": "a8c35026-ab62-413e-9f31-9151e48b07e3"
   },
   "outputs": [
    {
     "name": "stdout",
     "output_type": "stream",
     "text": [
      "['Afghanistan', 'Canada', 'Thailand', 'Denmark', 'Japan', 'USA']\n"
     ]
    }
   ],
   "source": [
    "country_list.append('USA')\n",
    "print(country_list)"
   ]
  },
  {
   "cell_type": "markdown",
   "id": "f51c9aab",
   "metadata": {
    "id": "f51c9aab"
   },
   "source": [
    "There are many other useful list methods. Use the [documentation](https://docs.python.org/3/tutorial/datastructures.html#more-on-lists) to investigate available methods for dealing with lists."
   ]
  },
  {
   "cell_type": "markdown",
   "id": "84f52853",
   "metadata": {
    "id": "84f52853"
   },
   "source": [
    "# Dictionaries\n",
    "\n",
    "Dictionaries are organized on the principle of key-value pairs. The keys can be used to access the values. They're most useful when you have unordered data organized in pairs. This occurs, for example, in storing metadata (data describing other data).\n",
    "\n",
    "Keys can be ints, floats, or strings, and are unordered. Values, however, can be any data type.\n",
    "\n",
    "Dictionaries are specified in Python using curly braces, with colons separating keys and values.\n",
    "\n",
    "Let's take a look at an example dictionary:"
   ]
  },
  {
   "cell_type": "code",
   "execution_count": null,
   "id": "1f8dacb3",
   "metadata": {
    "id": "1f8dacb3",
    "outputId": "6e281c9b-6715-465c-9d90-8b9f528f77cb",
    "scrolled": true
   },
   "outputs": [
    {
     "name": "stdout",
     "output_type": "stream",
     "text": [
      "The dictionary before remove is :  {'name': 'Forough Farrokhzad', 'year of birth': 1935, 'year of death': 1967, 'place of birth': 'Iran', 'language': 'Persian'}\n"
     ]
    }
   ],
   "source": [
    "example_dict = {\n",
    "    \"name\": \"Forough Farrokhzad\",\n",
    "    \"year of birth\": 1935,\n",
    "    \"year of death\": 1967,\n",
    "    \"place of birth\": \"Iran\",\n",
    "    \"language\": \"Persian\"}\n",
    "\n",
    "example_dict['year of birth']\n",
    "\n",
    "print(\"The dictionary before remove is : \", example_dict)"
   ]
  },
  {
   "cell_type": "code",
   "execution_count": null,
   "id": "4ea5aaf4",
   "metadata": {
    "id": "4ea5aaf4",
    "outputId": "9f8eda82-285b-4736-8aba-7cdfb6d83d5f"
   },
   "outputs": [
    {
     "name": "stdout",
     "output_type": "stream",
     "text": [
      "The dictionary after remove is :  {'name': 'Forough Farrokhzad', 'year of death': 1967, 'place of birth': 'Iran', 'language': 'Persian'}\n"
     ]
    }
   ],
   "source": [
    "del example_dict['year of birth']\n",
    "\n",
    "print(\"The dictionary after remove is : \", example_dict)"
   ]
  },
  {
   "cell_type": "markdown",
   "id": "f26e0ead",
   "metadata": {
    "id": "f26e0ead"
   },
   "source": [
    "# Data Frames\n",
    "\n",
    "A common data structure you've likely already encountered is tabular data. Think of an Excel sheet: each column corresponds to a different feature of each datapoint, while rows correspond to different samples.\n",
    "\n",
    "In scientific programming, tabular data is often called a \"data frame\". In Python, there a specialized library called **pandas** which contains an object DataFrame that implements this data structure.\n",
    "\n",
    "We're going to explore pandas more closely in Session 2, but let's try creating a **DataFrame** object right now.\n",
    "\n",
    "First, we need to create a dictionary:"
   ]
  },
  {
   "cell_type": "code",
   "execution_count": null,
   "id": "4274eea9",
   "metadata": {
    "id": "4274eea9"
   },
   "outputs": [],
   "source": [
    "fruit = ['apple', 'orange', 'mango', 'strawberry', 'salmonberry', 'thimbleberry']\n",
    "size = [3, 2, 3, 1, 1, 1]\n",
    "color = ['red', 'orange', 'orange', 'red', 'orange', 'red']\n",
    "\n",
    "fruits = {\n",
    "    'fruit': fruit,\n",
    "    'size': size,\n",
    "    'color': color}"
   ]
  },
  {
   "cell_type": "markdown",
   "id": "4797c206",
   "metadata": {
    "id": "4797c206"
   },
   "source": [
    "Next, we import the pandas library and pass in the dictionary to the **pd.DataFrame()** function, storing the result in a variable called df."
   ]
  },
  {
   "cell_type": "code",
   "execution_count": null,
   "id": "a14eb25d",
   "metadata": {
    "id": "a14eb25d",
    "outputId": "a42f588b-a263-4452-a3dc-441ad797d306"
   },
   "outputs": [
    {
     "data": {
      "text/html": [
       "<div>\n",
       "<style scoped>\n",
       "    .dataframe tbody tr th:only-of-type {\n",
       "        vertical-align: middle;\n",
       "    }\n",
       "\n",
       "    .dataframe tbody tr th {\n",
       "        vertical-align: top;\n",
       "    }\n",
       "\n",
       "    .dataframe thead th {\n",
       "        text-align: right;\n",
       "    }\n",
       "</style>\n",
       "<table border=\"1\" class=\"dataframe\">\n",
       "  <thead>\n",
       "    <tr style=\"text-align: right;\">\n",
       "      <th></th>\n",
       "      <th>fruit</th>\n",
       "      <th>size</th>\n",
       "      <th>color</th>\n",
       "    </tr>\n",
       "  </thead>\n",
       "  <tbody>\n",
       "    <tr>\n",
       "      <th>0</th>\n",
       "      <td>apple</td>\n",
       "      <td>3</td>\n",
       "      <td>red</td>\n",
       "    </tr>\n",
       "    <tr>\n",
       "      <th>1</th>\n",
       "      <td>orange</td>\n",
       "      <td>2</td>\n",
       "      <td>orange</td>\n",
       "    </tr>\n",
       "    <tr>\n",
       "      <th>2</th>\n",
       "      <td>mango</td>\n",
       "      <td>3</td>\n",
       "      <td>orange</td>\n",
       "    </tr>\n",
       "    <tr>\n",
       "      <th>3</th>\n",
       "      <td>strawberry</td>\n",
       "      <td>1</td>\n",
       "      <td>red</td>\n",
       "    </tr>\n",
       "    <tr>\n",
       "      <th>4</th>\n",
       "      <td>salmonberry</td>\n",
       "      <td>1</td>\n",
       "      <td>orange</td>\n",
       "    </tr>\n",
       "    <tr>\n",
       "      <th>5</th>\n",
       "      <td>thimbleberry</td>\n",
       "      <td>1</td>\n",
       "      <td>red</td>\n",
       "    </tr>\n",
       "  </tbody>\n",
       "</table>\n",
       "</div>"
      ],
      "text/plain": [
       "          fruit  size   color\n",
       "0         apple     3     red\n",
       "1        orange     2  orange\n",
       "2         mango     3  orange\n",
       "3    strawberry     1     red\n",
       "4   salmonberry     1  orange\n",
       "5  thimbleberry     1     red"
      ]
     },
     "execution_count": 28,
     "metadata": {},
     "output_type": "execute_result"
    }
   ],
   "source": [
    "import pandas as pd\n",
    "\n",
    "df = pd.DataFrame(fruits)\n",
    "df"
   ]
  },
  {
   "cell_type": "markdown",
   "id": "db45c3c4",
   "metadata": {
    "id": "db45c3c4"
   },
   "source": [
    "The keys became column names and the values became cells in the DataFrame. In addition, there is an **index** on the left that keeps track of the row.\n",
    "\n",
    "Objects can also have **attributes**, or variables associated with the data type. We can get the number of columns and rows with **df.shape**, an attribute of the dataframe.\n",
    "\n",
    "How many rows and columns does this dataframe have?"
   ]
  },
  {
   "cell_type": "code",
   "execution_count": null,
   "id": "8e47200f",
   "metadata": {
    "id": "8e47200f",
    "outputId": "85897eaa-f32d-4d6d-c0a8-9c6af4f6b6e0"
   },
   "outputs": [
    {
     "data": {
      "text/plain": [
       "(6, 3)"
      ]
     },
     "execution_count": 31,
     "metadata": {},
     "output_type": "execute_result"
    }
   ],
   "source": [
    "df.shape"
   ]
  },
  {
   "cell_type": "markdown",
   "id": "c05dfaf8",
   "metadata": {
    "id": "c05dfaf8"
   },
   "source": [
    "**Question**:\n",
    "The following code gives an error. Why does it have an error? What are some ways to fix this?"
   ]
  },
  {
   "cell_type": "code",
   "execution_count": null,
   "id": "19b6580a",
   "metadata": {
    "id": "19b6580a",
    "outputId": "9be76b95-1b1e-40c8-c58a-55b5db258ee4"
   },
   "outputs": [
    {
     "data": {
      "text/plain": [
       "(3, 3)"
      ]
     },
     "execution_count": 38,
     "metadata": {},
     "output_type": "execute_result"
    }
   ],
   "source": [
    "fruit = ['apple', 'orange', 'banana']\n",
    "length = [3.2, 2.1, 3.1]\n",
    "color = ['red', 'orange', 'yellow']\n",
    "\n",
    "fruit_dict = {\n",
    "    'fruit': fruit,\n",
    "    'length': length,\n",
    "    'color': color}\n",
    "\n",
    "df_fruit = pd.DataFrame(fruit_dict)\n",
    "df_fruit.shape"
   ]
  },
  {
   "cell_type": "markdown",
   "id": "e7811ddf",
   "metadata": {
    "id": "e7811ddf"
   },
   "source": [
    "We can choose a single column by selecting the name of that column. pandas calls this a pd.Series object. The act of obtaining a particular subset of a data frame is often referred to as **slicing**. This uses bracket notation to select part of the data.\n",
    "\n",
    "Check the type of the slice below:"
   ]
  },
  {
   "cell_type": "code",
   "execution_count": null,
   "id": "439be0ef",
   "metadata": {
    "id": "439be0ef"
   },
   "outputs": [],
   "source": [
    "# Bracket notation to choose a column\n",
    "df['fruit']"
   ]
  },
  {
   "cell_type": "code",
   "execution_count": null,
   "id": "09c97e21",
   "metadata": {
    "id": "09c97e21",
    "outputId": "f9a3ef90-fb9a-4f87-f4df-158fd2c0d8f1"
   },
   "outputs": [
    {
     "name": "stdout",
     "output_type": "stream",
     "text": [
      "2\n",
      "['red' 'orange']\n"
     ]
    }
   ],
   "source": [
    "#number of unique colors in the df\n",
    "print(df['color'].nunique())\n",
    "\n",
    "\n",
    "#unique colors in the df\n",
    "print(df['color'].unique())"
   ]
  },
  {
   "cell_type": "markdown",
   "id": "52488546",
   "metadata": {
    "id": "52488546"
   },
   "source": [
    "**Questions**: \n",
    "There is another pandas function .value_counts() which can be used to help organize the information provided by unique(). Read the [documentation](https://pandas.pydata.org/docs/reference/api/pandas.Series.value_counts.html) and apply value_counts() to the df variable. How many 'red' and 'orange' fruits are in the DataFrame?"
   ]
  },
  {
   "cell_type": "code",
   "execution_count": null,
   "id": "4e721c31",
   "metadata": {
    "id": "4e721c31",
    "outputId": "8f24d035-5f50-44f9-a316-3ba96aa7ea8b"
   },
   "outputs": [
    {
     "ename": "KeyError",
     "evalue": "'length'",
     "output_type": "error",
     "traceback": [
      "\u001b[1;31m---------------------------------------------------------------------------\u001b[0m",
      "\u001b[1;31mKeyError\u001b[0m                                  Traceback (most recent call last)",
      "File \u001b[1;32m~\\Anaconda3\\envs\\GAC\\lib\\site-packages\\pandas\\core\\indexes\\base.py:3629\u001b[0m, in \u001b[0;36mIndex.get_loc\u001b[1;34m(self, key, method, tolerance)\u001b[0m\n\u001b[0;32m   3628\u001b[0m \u001b[38;5;28;01mtry\u001b[39;00m:\n\u001b[1;32m-> 3629\u001b[0m     \u001b[38;5;28;01mreturn\u001b[39;00m \u001b[38;5;28;43mself\u001b[39;49m\u001b[38;5;241;43m.\u001b[39;49m\u001b[43m_engine\u001b[49m\u001b[38;5;241;43m.\u001b[39;49m\u001b[43mget_loc\u001b[49m\u001b[43m(\u001b[49m\u001b[43mcasted_key\u001b[49m\u001b[43m)\u001b[49m\n\u001b[0;32m   3630\u001b[0m \u001b[38;5;28;01mexcept\u001b[39;00m \u001b[38;5;167;01mKeyError\u001b[39;00m \u001b[38;5;28;01mas\u001b[39;00m err:\n",
      "File \u001b[1;32m~\\Anaconda3\\envs\\GAC\\lib\\site-packages\\pandas\\_libs\\index.pyx:136\u001b[0m, in \u001b[0;36mpandas._libs.index.IndexEngine.get_loc\u001b[1;34m()\u001b[0m\n",
      "File \u001b[1;32m~\\Anaconda3\\envs\\GAC\\lib\\site-packages\\pandas\\_libs\\index.pyx:163\u001b[0m, in \u001b[0;36mpandas._libs.index.IndexEngine.get_loc\u001b[1;34m()\u001b[0m\n",
      "File \u001b[1;32mpandas\\_libs\\hashtable_class_helper.pxi:5198\u001b[0m, in \u001b[0;36mpandas._libs.hashtable.PyObjectHashTable.get_item\u001b[1;34m()\u001b[0m\n",
      "File \u001b[1;32mpandas\\_libs\\hashtable_class_helper.pxi:5206\u001b[0m, in \u001b[0;36mpandas._libs.hashtable.PyObjectHashTable.get_item\u001b[1;34m()\u001b[0m\n",
      "\u001b[1;31mKeyError\u001b[0m: 'length'",
      "\nThe above exception was the direct cause of the following exception:\n",
      "\u001b[1;31mKeyError\u001b[0m                                  Traceback (most recent call last)",
      "Input \u001b[1;32mIn [41]\u001b[0m, in \u001b[0;36m<cell line: 1>\u001b[1;34m()\u001b[0m\n\u001b[1;32m----> 1\u001b[0m \u001b[43mdf\u001b[49m\u001b[43m[\u001b[49m\u001b[38;5;124;43m'\u001b[39;49m\u001b[38;5;124;43mlength\u001b[39;49m\u001b[38;5;124;43m'\u001b[39;49m\u001b[43m]\u001b[49m\u001b[38;5;241m.\u001b[39mvalue_counts()\n",
      "File \u001b[1;32m~\\Anaconda3\\envs\\GAC\\lib\\site-packages\\pandas\\core\\frame.py:3505\u001b[0m, in \u001b[0;36mDataFrame.__getitem__\u001b[1;34m(self, key)\u001b[0m\n\u001b[0;32m   3503\u001b[0m \u001b[38;5;28;01mif\u001b[39;00m \u001b[38;5;28mself\u001b[39m\u001b[38;5;241m.\u001b[39mcolumns\u001b[38;5;241m.\u001b[39mnlevels \u001b[38;5;241m>\u001b[39m \u001b[38;5;241m1\u001b[39m:\n\u001b[0;32m   3504\u001b[0m     \u001b[38;5;28;01mreturn\u001b[39;00m \u001b[38;5;28mself\u001b[39m\u001b[38;5;241m.\u001b[39m_getitem_multilevel(key)\n\u001b[1;32m-> 3505\u001b[0m indexer \u001b[38;5;241m=\u001b[39m \u001b[38;5;28;43mself\u001b[39;49m\u001b[38;5;241;43m.\u001b[39;49m\u001b[43mcolumns\u001b[49m\u001b[38;5;241;43m.\u001b[39;49m\u001b[43mget_loc\u001b[49m\u001b[43m(\u001b[49m\u001b[43mkey\u001b[49m\u001b[43m)\u001b[49m\n\u001b[0;32m   3506\u001b[0m \u001b[38;5;28;01mif\u001b[39;00m is_integer(indexer):\n\u001b[0;32m   3507\u001b[0m     indexer \u001b[38;5;241m=\u001b[39m [indexer]\n",
      "File \u001b[1;32m~\\Anaconda3\\envs\\GAC\\lib\\site-packages\\pandas\\core\\indexes\\base.py:3631\u001b[0m, in \u001b[0;36mIndex.get_loc\u001b[1;34m(self, key, method, tolerance)\u001b[0m\n\u001b[0;32m   3629\u001b[0m     \u001b[38;5;28;01mreturn\u001b[39;00m \u001b[38;5;28mself\u001b[39m\u001b[38;5;241m.\u001b[39m_engine\u001b[38;5;241m.\u001b[39mget_loc(casted_key)\n\u001b[0;32m   3630\u001b[0m \u001b[38;5;28;01mexcept\u001b[39;00m \u001b[38;5;167;01mKeyError\u001b[39;00m \u001b[38;5;28;01mas\u001b[39;00m err:\n\u001b[1;32m-> 3631\u001b[0m     \u001b[38;5;28;01mraise\u001b[39;00m \u001b[38;5;167;01mKeyError\u001b[39;00m(key) \u001b[38;5;28;01mfrom\u001b[39;00m \u001b[38;5;21;01merr\u001b[39;00m\n\u001b[0;32m   3632\u001b[0m \u001b[38;5;28;01mexcept\u001b[39;00m \u001b[38;5;167;01mTypeError\u001b[39;00m:\n\u001b[0;32m   3633\u001b[0m     \u001b[38;5;66;03m# If we have a listlike key, _check_indexing_error will raise\u001b[39;00m\n\u001b[0;32m   3634\u001b[0m     \u001b[38;5;66;03m#  InvalidIndexError. Otherwise we fall through and re-raise\u001b[39;00m\n\u001b[0;32m   3635\u001b[0m     \u001b[38;5;66;03m#  the TypeError.\u001b[39;00m\n\u001b[0;32m   3636\u001b[0m     \u001b[38;5;28mself\u001b[39m\u001b[38;5;241m.\u001b[39m_check_indexing_error(key)\n",
      "\u001b[1;31mKeyError\u001b[0m: 'length'"
     ]
    }
   ],
   "source": [
    "df_fruit['length'].value_counts()"
   ]
  },
  {
   "cell_type": "markdown",
   "id": "c1e09ccc",
   "metadata": {
    "id": "c1e09ccc"
   },
   "source": [
    "# Loops\n",
    "\n",
    "A **for** loop tells Python to execute some statements once for each value in a list, a character string, or some other set of values. Specifically, we structure our computation as: \"for each thing in this group, do these operations\"."
   ]
  },
  {
   "cell_type": "code",
   "execution_count": null,
   "id": "acbd9249",
   "metadata": {
    "id": "acbd9249",
    "outputId": "9530541e-7d51-44d1-943e-f02a4a355c09"
   },
   "outputs": [
    {
     "name": "stdout",
     "output_type": "stream",
     "text": [
      "41\n",
      "36\n",
      "28\n",
      "the loop has ended\n"
     ]
    }
   ],
   "source": [
    "tires = [41.2,35.7,28.4]\n",
    "\n",
    "for pressure in tires:\n",
    "    print(round(pressure))\n",
    "\n",
    "print('the loop has ended')"
   ]
  },
  {
   "cell_type": "markdown",
   "id": "21eb7b05",
   "metadata": {
    "id": "21eb7b05"
   },
   "source": [
    "**Question**:\n",
    "For the data frame below, let's convert each elevation from feet to meters. Use the conversion: 1 ft = .304 m.\n",
    "\n",
    "Proceed as follows:\n",
    "\n",
    "- Extract the column elevation as a Series.\n",
    "- Loop through the series.\n",
    "- Convert each value to meters.\n",
    "- Print the result."
   ]
  },
  {
   "cell_type": "code",
   "execution_count": null,
   "id": "86fabaf5",
   "metadata": {
    "id": "86fabaf5",
    "outputId": "d44d507b-da93-4d57-efc0-88130a908371"
   },
   "outputs": [
    {
     "data": {
      "text/html": [
       "<div>\n",
       "<style scoped>\n",
       "    .dataframe tbody tr th:only-of-type {\n",
       "        vertical-align: middle;\n",
       "    }\n",
       "\n",
       "    .dataframe tbody tr th {\n",
       "        vertical-align: top;\n",
       "    }\n",
       "\n",
       "    .dataframe thead th {\n",
       "        text-align: right;\n",
       "    }\n",
       "</style>\n",
       "<table border=\"1\" class=\"dataframe\">\n",
       "  <thead>\n",
       "    <tr style=\"text-align: right;\">\n",
       "      <th></th>\n",
       "      <th>mountain</th>\n",
       "      <th>range</th>\n",
       "      <th>elevation</th>\n",
       "    </tr>\n",
       "  </thead>\n",
       "  <tbody>\n",
       "    <tr>\n",
       "      <th>0</th>\n",
       "      <td>Mt. Whitney</td>\n",
       "      <td>Sierra Nevada</td>\n",
       "      <td>14505</td>\n",
       "    </tr>\n",
       "    <tr>\n",
       "      <th>1</th>\n",
       "      <td>Mt. Williamson</td>\n",
       "      <td>Sierra Nevada</td>\n",
       "      <td>14379</td>\n",
       "    </tr>\n",
       "    <tr>\n",
       "      <th>2</th>\n",
       "      <td>White Mountain Peak</td>\n",
       "      <td>White Mountains</td>\n",
       "      <td>14252</td>\n",
       "    </tr>\n",
       "    <tr>\n",
       "      <th>3</th>\n",
       "      <td>North Palisade</td>\n",
       "      <td>Sierra Nevada</td>\n",
       "      <td>14248</td>\n",
       "    </tr>\n",
       "    <tr>\n",
       "      <th>4</th>\n",
       "      <td>Mt. Shasta</td>\n",
       "      <td>Cascade Range</td>\n",
       "      <td>14179</td>\n",
       "    </tr>\n",
       "    <tr>\n",
       "      <th>5</th>\n",
       "      <td>Mt. Humphreys</td>\n",
       "      <td>Sierra Nevada</td>\n",
       "      <td>13992</td>\n",
       "    </tr>\n",
       "  </tbody>\n",
       "</table>\n",
       "</div>"
      ],
      "text/plain": [
       "              mountain            range  elevation\n",
       "0          Mt. Whitney    Sierra Nevada      14505\n",
       "1       Mt. Williamson    Sierra Nevada      14379\n",
       "2  White Mountain Peak  White Mountains      14252\n",
       "3       North Palisade    Sierra Nevada      14248\n",
       "4           Mt. Shasta    Cascade Range      14179\n",
       "5        Mt. Humphreys    Sierra Nevada      13992"
      ]
     },
     "execution_count": 63,
     "metadata": {},
     "output_type": "execute_result"
    }
   ],
   "source": [
    "import pandas as pd\n",
    "\n",
    "mountains_df = pd.DataFrame(\n",
    "    {'mountain': ['Mt. Whitney',\n",
    "                  'Mt. Williamson',\n",
    "                  'White Mountain Peak',\n",
    "                  'North Palisade',\n",
    "                  'Mt. Shasta',\n",
    "                  'Mt. Humphreys'],\n",
    "     'range': ['Sierra Nevada',\n",
    "               'Sierra Nevada',\n",
    "               'White Mountains',\n",
    "               'Sierra Nevada',\n",
    "               'Cascade Range',\n",
    "               'Sierra Nevada'],\n",
    "     'elevation': [14505, 14379, 14252, 14248, 14179, 13992]}\n",
    ")\n",
    "\n",
    "mountains_df"
   ]
  },
  {
   "cell_type": "code",
   "execution_count": null,
   "id": "33def3be",
   "metadata": {
    "id": "33def3be",
    "outputId": "24819e8f-6152-485c-e555-154209514811"
   },
   "outputs": [
    {
     "name": "stdout",
     "output_type": "stream",
     "text": [
      "4409.5199999999995\n",
      "4371.215999999999\n",
      "4332.608\n",
      "4331.392\n",
      "4310.416\n",
      "4253.568\n"
     ]
    }
   ],
   "source": [
    "elevation=mountains_df['elevation']\n",
    "\n",
    "for e in mountains_df['elevation']:\n",
    "    print(e*.304)"
   ]
  },
  {
   "cell_type": "code",
   "execution_count": null,
   "id": "c3d6ca43",
   "metadata": {
    "id": "c3d6ca43",
    "outputId": "5b9284c3-becc-467f-eac6-39b3ffc2e8b3"
   },
   "outputs": [
    {
     "name": "stdout",
     "output_type": "stream",
     "text": [
      "4253.568\n"
     ]
    }
   ],
   "source": [
    "def height():\n",
    "    for i in mountains_df['elevation']:\n",
    "        x=i*.304\n",
    "    print(x)\n",
    "    \n",
    "height()"
   ]
  }
 ],
 "metadata": {
  "colab": {
   "provenance": []
  },
  "kernelspec": {
   "display_name": "Python 3 (ipykernel)",
   "language": "python",
   "name": "python3"
  },
  "language_info": {
   "codemirror_mode": {
    "name": "ipython",
    "version": 3
   },
   "file_extension": ".py",
   "mimetype": "text/x-python",
   "name": "python",
   "nbconvert_exporter": "python",
   "pygments_lexer": "ipython3",
   "version": "3.9.12"
  },
  "toc": {
   "base_numbering": 1,
   "nav_menu": {},
   "number_sections": true,
   "sideBar": true,
   "skip_h1_title": false,
   "title_cell": "Table of Contents",
   "title_sidebar": "Contents",
   "toc_cell": false,
   "toc_position": {
    "height": "calc(100% - 180px)",
    "left": "10px",
    "top": "150px",
    "width": "256px"
   },
   "toc_section_display": true,
   "toc_window_display": true
  },
  "varInspector": {
   "cols": {
    "lenName": 16,
    "lenType": 16,
    "lenVar": 40
   },
   "kernels_config": {
    "python": {
     "delete_cmd_postfix": "",
     "delete_cmd_prefix": "del ",
     "library": "var_list.py",
     "varRefreshCmd": "print(var_dic_list())"
    },
    "r": {
     "delete_cmd_postfix": ") ",
     "delete_cmd_prefix": "rm(",
     "library": "var_list.r",
     "varRefreshCmd": "cat(var_dic_list()) "
    }
   },
   "types_to_exclude": [
    "module",
    "function",
    "builtin_function_or_method",
    "instance",
    "_Feature"
   ],
   "window_display": false
  }
 },
 "nbformat": 4,
 "nbformat_minor": 5
}
